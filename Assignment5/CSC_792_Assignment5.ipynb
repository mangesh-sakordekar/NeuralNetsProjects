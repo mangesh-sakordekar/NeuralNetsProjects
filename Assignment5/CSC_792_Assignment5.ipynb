{
 "cells": [
  {
   "cell_type": "code",
   "execution_count": null,
   "id": "f1dbb2df-b50e-4293-85d2-95dc9997e0ac",
   "metadata": {},
   "outputs": [],
   "source": [
    "# import OS module\n",
    "import os\n",
    "import numpy as np\n",
    "from matplotlib.pyplot import *\n",
    "from scipy.misc import *\n",
    "from skimage import color\n",
    "from skimage import io\n",
    "from tensorflow import keras\n",
    "from tensorflow.keras import layers"
   ]
  },
  {
   "cell_type": "code",
   "execution_count": null,
   "id": "1d962298-c48a-4059-b546-bed7d1c9927e",
   "metadata": {},
   "outputs": [],
   "source": [
    "def softmax(ar):\n",
    "    ans = []\n",
    "    for v in ar:\n",
    "        ans.append(np.exp(v)/ sum(np.exp(ar)))\n",
    "    return ans              "
   ]
  },
  {
   "cell_type": "code",
   "execution_count": null,
   "id": "775e0506-9ea3-4b0e-b670-168b77db08aa",
   "metadata": {},
   "outputs": [],
   "source": [
    "# Get the list of all files and directories\n",
    "path = \"./images/\"\n",
    "dir_list = os.listdir(path)"
   ]
  },
  {
   "cell_type": "code",
   "execution_count": null,
   "id": "cc382872-a106-4ea1-967f-1c5c25bc1d12",
   "metadata": {},
   "outputs": [],
   "source": [
    "data = np.zeros((1, 504, 504))\n",
    "data = data[1:]\n",
    "data.shape"
   ]
  },
  {
   "cell_type": "code",
   "execution_count": null,
   "id": "8b80d7b7-368c-4b81-a03e-2fc6a73757dc",
   "metadata": {},
   "outputs": [],
   "source": [
    "for file in dir_list:\n",
    "    img = color.rgb2gray(imread(path + file)[29: , :, :])\n",
    "    data = np.concatenate((data,np.reshape(img, (1, 504, 504)) ))\n",
    "data.shape\n",
    "imshow(img, cmap=\"gray\")"
   ]
  },
  {
   "cell_type": "code",
   "execution_count": null,
   "id": "a25e0d37-b766-451f-bc2b-f9bb7969c1ff",
   "metadata": {},
   "outputs": [],
   "source": [
    "data.shape"
   ]
  },
  {
   "cell_type": "code",
   "execution_count": null,
   "id": "0e04d402-0ee4-4ba7-8d6d-173b393d12f8",
   "metadata": {},
   "outputs": [],
   "source": [
    "labels = open(\"labels.txt\", \"r\")\n",
    "labels = labels.read()\n",
    "labels = labels.split('\\n')"
   ]
  },
  {
   "cell_type": "code",
   "execution_count": null,
   "id": "b4c56b18-9784-46ca-916a-97f57e55119b",
   "metadata": {},
   "outputs": [],
   "source": [
    "hour_labels = np.zeros((1))[1:]\n",
    "min_labels = np.zeros((1))[1:]\n",
    "\n",
    "for lbl in labels:\n",
    "    time = lbl.split(\":\")\n",
    "    if len(time) == 2:\n",
    "        hour_labels = np.append(hour_labels, time[0])\n",
    "        min_labels = np.append(min_labels, time[1])\n"
   ]
  },
  {
   "cell_type": "code",
   "execution_count": null,
   "id": "6f47bae4-a5c5-47d6-8c26-916868a42bdf",
   "metadata": {},
   "outputs": [],
   "source": [
    "p = np.random.permutation(len(data))\n",
    "X = data[p, :].astype(float)\n",
    "h = hour_labels[p].astype(float)\n",
    "m = min_labels[p].astype(float)"
   ]
  },
  {
   "cell_type": "code",
   "execution_count": null,
   "id": "bca0d58a-6b16-4876-a763-88f43cdb2ff1",
   "metadata": {},
   "outputs": [],
   "source": [
    "train_data , test_data = X[:504, :], X[504 :, :]\n",
    "train_h_lbls, test_h_lbls = h[:504], h[504 :]\n",
    "train_m_lbls, test_m_lbls = m[:504], m[504 :]"
   ]
  },
  {
   "cell_type": "code",
   "execution_count": null,
   "id": "49b736cb-f4ee-4c3d-a2c6-482fb95e58af",
   "metadata": {},
   "outputs": [],
   "source": [
    "inputs = keras.Input(shape=(504, 504, 1))\n",
    "x = layers.Conv2D(filters=8, kernel_size=3, activation=\"relu\")(inputs)\n",
    "x = layers.MaxPooling2D(pool_size=2)(x)\n",
    "x = layers.Conv2D(filters=16, kernel_size=3, activation=\"relu\")(x)\n",
    "x = layers.MaxPooling2D(pool_size=2)(x)\n",
    "x = layers.Conv2D(filters=32, kernel_size=3, activation=\"relu\")(x)\n",
    "x = layers.Flatten()(x)\n",
    "outputs = layers.Dense(13, activation=\"softmax\")(x)\n",
    "model = keras.Model(inputs=inputs, outputs=outputs)"
   ]
  },
  {
   "cell_type": "code",
   "execution_count": null,
   "id": "837e6e0a-fa43-4463-80f7-933c4bed7133",
   "metadata": {},
   "outputs": [],
   "source": [
    "model.compile(optimizer=\"rmsprop\",\n",
    "    loss=\"sparse_categorical_crossentropy\",\n",
    "    metrics=[\"accuracy\"])\n",
    "model.fit(train_data, train_h_lbls, epochs=10, batch_size=64)"
   ]
  },
  {
   "cell_type": "code",
   "execution_count": null,
   "id": "b171d98a-9455-43f1-91b0-6dfb2e8de016",
   "metadata": {},
   "outputs": [],
   "source": [
    "test_loss, test_acc = model.evaluate(test_data, test_h_lbls)\n",
    "print(f\"Test accuracy: {test_acc:.3f}\")"
   ]
  },
  {
   "cell_type": "code",
   "execution_count": null,
   "id": "c60c5c7d-ed36-4beb-a7d2-3ab44986536b",
   "metadata": {},
   "outputs": [],
   "source": [
    "inputs = keras.Input(shape=(504, 504, 1))\n",
    "x = layers.Conv2D(filters=8, kernel_size=3, activation=\"relu\")(inputs)\n",
    "x = layers.MaxPooling2D(pool_size=2)(x)\n",
    "x = layers.Conv2D(filters=16, kernel_size=3, activation=\"relu\")(x)\n",
    "x = layers.MaxPooling2D(pool_size=2)(x)\n",
    "x = layers.Conv2D(filters=32, kernel_size=3, activation=\"relu\")(x)\n",
    "x = layers.Flatten()(x)\n",
    "outputs = layers.Dense(60, activation=\"softmax\")(x)\n",
    "model_minutes = keras.Model(inputs=inputs, outputs=outputs)"
   ]
  },
  {
   "cell_type": "code",
   "execution_count": null,
   "id": "dd3839d2-15fe-459c-910f-957662d74f5f",
   "metadata": {},
   "outputs": [],
   "source": [
    "model_minutes.compile(optimizer=\"rmsprop\",\n",
    "    loss=\"sparse_categorical_crossentropy\",\n",
    "    metrics=[\"accuracy\"])\n",
    "model_minutes.fit(train_data, train_m_lbls, epochs=10, batch_size=64)"
   ]
  },
  {
   "cell_type": "code",
   "execution_count": null,
   "id": "2a1e8da1-98d9-4fca-8e34-5fd9e4b8fa45",
   "metadata": {},
   "outputs": [],
   "source": [
    "test_loss, test_acc = model_minutes.evaluate(test_data, test_m_lbls)\n",
    "print(f\"Test accuracy: {test_acc:.3f}\")"
   ]
  },
  {
   "cell_type": "code",
   "execution_count": null,
   "id": "8091108c-0b10-42d5-ac82-496dd9e5e98e",
   "metadata": {},
   "outputs": [],
   "source": [
    "def predict_time(image):\n",
    "    hrs = model.predict(np.reshape(image, (1,504,504, 1)), verbose = 0).argmax(axis=1)\n",
    "    mins =  model_minutes.predict(np.reshape(image, (1,504,504, 1)), verbose = 0).argmax(axis=1)\n",
    "    return str(hrs[0]).zfill(2) + \":\" + str(mins[0]).zfill(2)"
   ]
  },
  {
   "cell_type": "code",
   "execution_count": null,
   "id": "39c66f5c-34ee-453a-8c69-e4c06353184d",
   "metadata": {},
   "outputs": [],
   "source": [
    "imshow(test_data[2], cmap=\"gray\")"
   ]
  },
  {
   "cell_type": "code",
   "execution_count": null,
   "id": "917d313d-32ad-4f78-9577-4e8f1b9d6f39",
   "metadata": {},
   "outputs": [],
   "source": [
    "for i in range(len(test_data)):\n",
    "    t = predict_time(test_data[i])\n",
    "    print( t + \"\\t\" + str(int(test_h_lbls[i])).zfill(2) + \":\" + str(int(test_m_lbls[i])).zfill(2))"
   ]
  },
  {
   "cell_type": "code",
   "execution_count": null,
   "id": "0094a523-8a59-4487-8a84-f5aa57dc42da",
   "metadata": {},
   "outputs": [],
   "source": []
  }
 ],
 "metadata": {
  "kernelspec": {
   "display_name": "Python 3 (ipykernel)",
   "language": "python",
   "name": "python3"
  },
  "language_info": {
   "codemirror_mode": {
    "name": "ipython",
    "version": 3
   },
   "file_extension": ".py",
   "mimetype": "text/x-python",
   "name": "python",
   "nbconvert_exporter": "python",
   "pygments_lexer": "ipython3",
   "version": "3.9.12"
  }
 },
 "nbformat": 4,
 "nbformat_minor": 5
}
