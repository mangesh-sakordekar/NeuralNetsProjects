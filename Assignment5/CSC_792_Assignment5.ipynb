{
 "cells": [
  {
   "cell_type": "code",
   "execution_count": 1,
   "id": "f1dbb2df-b50e-4293-85d2-95dc9997e0ac",
   "metadata": {},
   "outputs": [],
   "source": [
    "# import OS module\n",
    "import os\n",
    "import numpy as np\n",
    "from matplotlib.pyplot import *\n",
    "from scipy.misc import *\n",
    "from skimage import color\n",
    "from skimage import io\n",
    "from tensorflow import keras\n",
    "from tensorflow.keras import layers"
   ]
  },
  {
   "cell_type": "code",
   "execution_count": 2,
   "id": "775e0506-9ea3-4b0e-b670-168b77db08aa",
   "metadata": {},
   "outputs": [],
   "source": [
    "# Get the list of all files and directories\n",
    "path = \"./images/\"\n",
    "dir_list = os.listdir(path)"
   ]
  },
  {
   "cell_type": "code",
   "execution_count": 3,
   "id": "cc382872-a106-4ea1-967f-1c5c25bc1d12",
   "metadata": {},
   "outputs": [
    {
     "data": {
      "text/plain": [
       "(0, 504, 504)"
      ]
     },
     "execution_count": 3,
     "metadata": {},
     "output_type": "execute_result"
    }
   ],
   "source": [
    "data = np.zeros((1, 504, 504))\n",
    "data = data[1:]\n",
    "data.shape"
   ]
  },
  {
   "cell_type": "code",
   "execution_count": 4,
   "id": "8b80d7b7-368c-4b81-a03e-2fc6a73757dc",
   "metadata": {},
   "outputs": [
    {
     "data": {
      "text/plain": [
       "(720, 504, 504)"
      ]
     },
     "execution_count": 4,
     "metadata": {},
     "output_type": "execute_result"
    }
   ],
   "source": [
    "for file in dir_list:\n",
    "    img = color.rgb2gray(imread(path + file)[29: , :, :])\n",
    "    data = np.concatenate((data,np.reshape(img, (1, 504, 504)) ))\n",
    "data.shape"
   ]
  },
  {
   "cell_type": "code",
   "execution_count": 5,
   "id": "0e04d402-0ee4-4ba7-8d6d-173b393d12f8",
   "metadata": {},
   "outputs": [],
   "source": [
    "labels = open(\"labels.txt\", \"r\")\n",
    "labels = labels.read()\n",
    "labels = labels.split('\\n')"
   ]
  },
  {
   "cell_type": "code",
   "execution_count": 6,
   "id": "b4c56b18-9784-46ca-916a-97f57e55119b",
   "metadata": {},
   "outputs": [],
   "source": [
    "hour_labels = np.zeros((1))[1:]\n",
    "min_labels = np.zeros((1))[1:]\n",
    "\n",
    "for lbl in labels:\n",
    "    time = lbl.split(\":\")\n",
    "    if len(time) == 2:\n",
    "        hour_labels = np.append(hour_labels, time[0])\n",
    "        min_labels = np.append(min_labels, time[1])\n"
   ]
  },
  {
   "cell_type": "code",
   "execution_count": 7,
   "id": "6f47bae4-a5c5-47d6-8c26-916868a42bdf",
   "metadata": {},
   "outputs": [],
   "source": [
    "p = np.random.permutation(len(data))\n",
    "X = data[p, :].astype(float)\n",
    "h = hour_labels[p].astype(float)\n",
    "m = min_labels[p].astype(float)"
   ]
  },
  {
   "cell_type": "code",
   "execution_count": 8,
   "id": "bca0d58a-6b16-4876-a763-88f43cdb2ff1",
   "metadata": {},
   "outputs": [],
   "source": [
    "train_data , test_data = X[:504, :], X[504 :, :]\n",
    "train_h_lbls, test_h_lbls = h[:504], h[504 :]\n",
    "train_m_lbls, test_m_lbls = m[:504], m[504 :]"
   ]
  },
  {
   "cell_type": "code",
   "execution_count": 9,
   "id": "49b736cb-f4ee-4c3d-a2c6-482fb95e58af",
   "metadata": {},
   "outputs": [],
   "source": [
    "inputs = keras.Input(shape=(504, 504, 1))\n",
    "x = layers.Conv2D(filters=8, kernel_size=3, activation=\"relu\")(inputs)\n",
    "x = layers.MaxPooling2D(pool_size=2)(x)\n",
    "x = layers.Conv2D(filters=16, kernel_size=3, activation=\"relu\")(x)\n",
    "x = layers.MaxPooling2D(pool_size=2)(x)\n",
    "x = layers.Conv2D(filters=32, kernel_size=3, activation=\"relu\")(x)\n",
    "x = layers.Flatten()(x)\n",
    "outputs = layers.Dense(13, activation=\"softmax\")(x)\n",
    "model_hours = keras.Model(inputs=inputs, outputs=outputs)"
   ]
  },
  {
   "cell_type": "code",
   "execution_count": 10,
   "id": "837e6e0a-fa43-4463-80f7-933c4bed7133",
   "metadata": {},
   "outputs": [
    {
     "name": "stdout",
     "output_type": "stream",
     "text": [
      "Epoch 1/10\n",
      "8/8 [==============================] - 19s 2s/step - loss: 19.7450 - accuracy: 0.0853\n",
      "Epoch 2/10\n",
      "8/8 [==============================] - 18s 2s/step - loss: 2.6063 - accuracy: 0.1190\n",
      "Epoch 3/10\n",
      "8/8 [==============================] - 18s 2s/step - loss: 1.7768 - accuracy: 0.4266\n",
      "Epoch 4/10\n",
      "8/8 [==============================] - 18s 2s/step - loss: 0.7279 - accuracy: 0.7917\n",
      "Epoch 5/10\n",
      "8/8 [==============================] - 18s 2s/step - loss: 0.2415 - accuracy: 0.9405\n",
      "Epoch 6/10\n",
      "8/8 [==============================] - 18s 2s/step - loss: 0.1153 - accuracy: 0.9722\n",
      "Epoch 7/10\n",
      "8/8 [==============================] - 18s 2s/step - loss: 0.0502 - accuracy: 0.9841\n",
      "Epoch 8/10\n",
      "8/8 [==============================] - 18s 2s/step - loss: 0.0463 - accuracy: 0.9821\n",
      "Epoch 9/10\n",
      "8/8 [==============================] - 18s 2s/step - loss: 0.0475 - accuracy: 0.9861\n",
      "Epoch 10/10\n",
      "8/8 [==============================] - 18s 2s/step - loss: 0.0231 - accuracy: 0.9960\n"
     ]
    },
    {
     "data": {
      "text/plain": [
       "<keras.callbacks.History at 0x220675325e0>"
      ]
     },
     "execution_count": 10,
     "metadata": {},
     "output_type": "execute_result"
    }
   ],
   "source": [
    "model_hours.compile(optimizer=\"rmsprop\",\n",
    "    loss=\"sparse_categorical_crossentropy\",\n",
    "    metrics=[\"accuracy\"])\n",
    "model_hours.fit(train_data, train_h_lbls, epochs=10, batch_size=64)"
   ]
  },
  {
   "cell_type": "code",
   "execution_count": 11,
   "id": "b171d98a-9455-43f1-91b0-6dfb2e8de016",
   "metadata": {},
   "outputs": [
    {
     "name": "stdout",
     "output_type": "stream",
     "text": [
      "7/7 [==============================] - 2s 284ms/step - loss: 0.2290 - accuracy: 0.9120\n",
      "Test accuracy: 0.912\n"
     ]
    }
   ],
   "source": [
    "test_loss, test_acc = model_hours.evaluate(test_data, test_h_lbls)\n",
    "print(f\"Test accuracy: {test_acc:.3f}\")"
   ]
  },
  {
   "cell_type": "code",
   "execution_count": 12,
   "id": "c60c5c7d-ed36-4beb-a7d2-3ab44986536b",
   "metadata": {},
   "outputs": [],
   "source": [
    "inputs = keras.Input(shape=(504, 504, 1))\n",
    "x = layers.Conv2D(filters=8, kernel_size=3, activation=\"relu\")(inputs)\n",
    "x = layers.MaxPooling2D(pool_size=2)(x)\n",
    "x = layers.Conv2D(filters=16, kernel_size=3, activation=\"relu\")(x)\n",
    "x = layers.MaxPooling2D(pool_size=2)(x)\n",
    "x = layers.Conv2D(filters=32, kernel_size=3, activation=\"relu\")(x)\n",
    "x = layers.Flatten()(x)\n",
    "outputs = layers.Dense(60, activation=\"softmax\")(x)\n",
    "model_minutes = keras.Model(inputs=inputs, outputs=outputs)"
   ]
  },
  {
   "cell_type": "code",
   "execution_count": 13,
   "id": "dd3839d2-15fe-459c-910f-957662d74f5f",
   "metadata": {},
   "outputs": [
    {
     "name": "stdout",
     "output_type": "stream",
     "text": [
      "Epoch 1/10\n",
      "8/8 [==============================] - 21s 2s/step - loss: 19.8768 - accuracy: 0.0218\n",
      "Epoch 2/10\n",
      "8/8 [==============================] - 19s 2s/step - loss: 3.9709 - accuracy: 0.0873\n",
      "Epoch 3/10\n",
      "8/8 [==============================] - 19s 2s/step - loss: 2.1844 - accuracy: 0.4821\n",
      "Epoch 4/10\n",
      "8/8 [==============================] - 19s 2s/step - loss: 0.4747 - accuracy: 0.9385\n",
      "Epoch 5/10\n",
      "8/8 [==============================] - 19s 2s/step - loss: 0.1512 - accuracy: 0.9742\n",
      "Epoch 6/10\n",
      "8/8 [==============================] - 19s 2s/step - loss: 0.0935 - accuracy: 0.9762\n",
      "Epoch 7/10\n",
      "8/8 [==============================] - 20s 3s/step - loss: 0.0770 - accuracy: 0.9821\n",
      "Epoch 8/10\n",
      "8/8 [==============================] - 20s 2s/step - loss: 0.0676 - accuracy: 0.9841\n",
      "Epoch 9/10\n",
      "8/8 [==============================] - 19s 2s/step - loss: 0.0606 - accuracy: 0.9821\n",
      "Epoch 10/10\n",
      "8/8 [==============================] - 19s 2s/step - loss: 0.0552 - accuracy: 0.9861\n"
     ]
    },
    {
     "data": {
      "text/plain": [
       "<keras.callbacks.History at 0x22076316100>"
      ]
     },
     "execution_count": 13,
     "metadata": {},
     "output_type": "execute_result"
    }
   ],
   "source": [
    "model_minutes.compile(optimizer=\"rmsprop\",\n",
    "    loss=\"sparse_categorical_crossentropy\",\n",
    "    metrics=[\"accuracy\"])\n",
    "model_minutes.fit(train_data, train_m_lbls, epochs=10, batch_size=64)"
   ]
  },
  {
   "cell_type": "code",
   "execution_count": 14,
   "id": "2a1e8da1-98d9-4fca-8e34-5fd9e4b8fa45",
   "metadata": {},
   "outputs": [
    {
     "name": "stdout",
     "output_type": "stream",
     "text": [
      "7/7 [==============================] - 3s 295ms/step - loss: 0.2991 - accuracy: 0.9444\n",
      "Test accuracy: 0.944\n"
     ]
    }
   ],
   "source": [
    "test_loss, test_acc = model_minutes.evaluate(test_data, test_m_lbls)\n",
    "print(f\"Test accuracy: {test_acc:.3f}\")"
   ]
  },
  {
   "cell_type": "code",
   "execution_count": 15,
   "id": "8091108c-0b10-42d5-ac82-496dd9e5e98e",
   "metadata": {},
   "outputs": [],
   "source": [
    "def predict_time(image):\n",
    "    hrs = model_hours.predict(np.reshape(image, (1,504,504, 1)), verbose = 0).argmax(axis=1)\n",
    "    mins =  model_minutes.predict(np.reshape(image, (1,504,504, 1)), verbose = 0).argmax(axis=1)\n",
    "    return str(hrs[0]).zfill(2) + \":\" + str(mins[0]).zfill(2)"
   ]
  },
  {
   "cell_type": "code",
   "execution_count": 17,
   "id": "917d313d-32ad-4f78-9577-4e8f1b9d6f39",
   "metadata": {},
   "outputs": [],
   "source": [
    "test_correct_preds = 0\n",
    "for i in range(len(test_data)):\n",
    "    t = predict_time(test_data[i])\n",
    "    lbl = str(int(test_h_lbls[i])).zfill(2) + \":\" + str(int(test_m_lbls[i])).zfill(2)\n",
    "    #print( t + \"\\t\" + str(int(test_h_lbls[i])).zfill(2) + \":\" + str(int(test_m_lbls[i])).zfill(2))\n",
    "    test_correct_preds += (t == lbl)\n",
    "test_accuracy = test_correct_preds / len(test_data)"
   ]
  },
  {
   "cell_type": "code",
   "execution_count": 18,
   "id": "6b284245-193a-4f3d-ab13-9f8839276571",
   "metadata": {},
   "outputs": [
    {
     "data": {
      "text/plain": [
       "0.8703703703703703"
      ]
     },
     "execution_count": 18,
     "metadata": {},
     "output_type": "execute_result"
    }
   ],
   "source": [
    "test_accuracy"
   ]
  },
  {
   "cell_type": "code",
   "execution_count": 19,
   "id": "0094a523-8a59-4487-8a84-f5aa57dc42da",
   "metadata": {},
   "outputs": [],
   "source": [
    "train_correct_preds = 0\n",
    "for i in range(len(train_data)):\n",
    "    t = predict_time(train_data[i])\n",
    "    lbl = str(int(train_h_lbls[i])).zfill(2) + \":\" + str(int(train_m_lbls[i])).zfill(2)\n",
    "    #print( t + \"\\t\" + str(int(test_h_lbls[i])).zfill(2) + \":\" + str(int(test_m_lbls[i])).zfill(2))\n",
    "    train_correct_preds += (t == lbl)\n",
    "train_accuracy = train_correct_preds / len(train_data)"
   ]
  },
  {
   "cell_type": "code",
   "execution_count": 20,
   "id": "88f9fce2-9875-406e-a213-3d60dd4878cf",
   "metadata": {},
   "outputs": [
    {
     "data": {
      "text/plain": [
       "0.9900793650793651"
      ]
     },
     "execution_count": 20,
     "metadata": {},
     "output_type": "execute_result"
    }
   ],
   "source": [
    "train_accuracy"
   ]
  },
  {
   "cell_type": "code",
   "execution_count": null,
   "id": "e0828e8f-89cc-4068-ba5d-02b99a86b029",
   "metadata": {},
   "outputs": [],
   "source": []
  }
 ],
 "metadata": {
  "kernelspec": {
   "display_name": "Python 3 (ipykernel)",
   "language": "python",
   "name": "python3"
  },
  "language_info": {
   "codemirror_mode": {
    "name": "ipython",
    "version": 3
   },
   "file_extension": ".py",
   "mimetype": "text/x-python",
   "name": "python",
   "nbconvert_exporter": "python",
   "pygments_lexer": "ipython3",
   "version": "3.9.12"
  }
 },
 "nbformat": 4,
 "nbformat_minor": 5
}
